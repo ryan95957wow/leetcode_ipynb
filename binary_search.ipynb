{
 "cells": [
  {
   "cell_type": "code",
   "execution_count": 1,
   "metadata": {},
   "outputs": [],
   "source": [
    "def binary_search(li, val):\n",
    "    l,r=0,len(li)-1\n",
    "    while l<=r:\n",
    "        mid = l+(l+r)//2\n",
    "        if li[mid]>val:\n",
    "            r = mid-1\n",
    "        elif li[mid]<val:\n",
    "            l = mid+1\n",
    "        elif li[mid]==val:\n",
    "            return mid\n",
    "        else:\n",
    "            return None"
   ]
  }
 ],
 "metadata": {
  "kernelspec": {
   "display_name": "Python 3",
   "language": "python",
   "name": "python3"
  },
  "language_info": {
   "codemirror_mode": {
    "name": "ipython",
    "version": 3
   },
   "file_extension": ".py",
   "mimetype": "text/x-python",
   "name": "python",
   "nbconvert_exporter": "python",
   "pygments_lexer": "ipython3",
   "version": "3.8.3"
  }
 },
 "nbformat": 4,
 "nbformat_minor": 4
}
