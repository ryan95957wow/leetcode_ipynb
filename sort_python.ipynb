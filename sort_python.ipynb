{
 "cells": [
  {
   "cell_type": "markdown",
   "metadata": {},
   "source": [
    "+ lowB排序：冒泡排序、选择排序、插入排序\n",
    "+ NB排序：快速排序、堆排序、归并排序\n",
    "+ 其他排序：希尔排序、计数排序、基数排序"
   ]
  },
  {
   "cell_type": "markdown",
   "metadata": {},
   "source": [
    "一般情况下，运行速度：快排 > 归并 > 堆排序\n",
    "缺点：\n",
    "+ 快排：极端情况效率低 （递归也可能需要系统空间 (logn 空间复杂度)）\n",
    "+ 归并：需要额外内存开销\n",
    "+ 堆排序：相对较慢"
   ]
  },
  {
   "cell_type": "code",
   "execution_count": 2,
   "metadata": {},
   "outputs": [],
   "source": [
    "#冒泡\n",
    "def bubble_sort(nums):\n",
    "    n = len(nums)-1\n",
    "    for i in range(n):\n",
    "        exchange = False\n",
    "        for j in range(n-i):\n",
    "            if nums[j]>nums[j+1]:\n",
    "                nums[j],nums[j+1]=nums[j+1],nums[j]\n",
    "                exchange = True\n",
    "        if not exchange:\n",
    "            return nums\n",
    "    return nums"
   ]
  },
  {
   "cell_type": "code",
   "execution_count": 3,
   "metadata": {},
   "outputs": [],
   "source": [
    "#选择\n",
    "def select_sort(nums):\n",
    "    n = len(nums)\n",
    "    for i in range(n-1):\n",
    "        min_ind = i\n",
    "        for j in range(i+1,n):\n",
    "            if nums[j]<nums[min_ind]:\n",
    "                min_ind = j\n",
    "        if min_ind!=i:\n",
    "            nums[min_ind],nums[i]=nums[i],nums[min_ind]\n",
    "    return nums"
   ]
  },
  {
   "cell_type": "code",
   "execution_count": 4,
   "metadata": {},
   "outputs": [],
   "source": [
    "#插入\n",
    "def insert_sort(nums):\n",
    "    for i in range(1,len(nums)):\n",
    "        j=i-1\n",
    "        tmp = nums[i]\n",
    "        while j>=0 and nums[j]>tmp:\n",
    "            nums[j+1] = nums[j]\n",
    "            j-=1\n",
    "        nums[j+1]=tmp\n",
    "    return nums"
   ]
  },
  {
   "cell_type": "code",
   "execution_count": 5,
   "metadata": {},
   "outputs": [],
   "source": [
    "#快速排序\n",
    "def partition(arr,l,r):\n",
    "    i=l-1\n",
    "    pivot=arr[r]\n",
    "    for j in range(l,r):\n",
    "        if arr[j]<=pivot:\n",
    "            i+=1\n",
    "            arr[i],arr[j]=arr[j],arr[i]\n",
    "    arr[i+1],arr[r]=arr[r],arr[i+1]\n",
    "    return i+1\n",
    "def qsort(arr,l,r):\n",
    "    if l<r:\n",
    "        pi=partition(arr,l,r)\n",
    "        qsort(arr,l,pi-1)\n",
    "        qsort(arr,pi+1,r)"
   ]
  },
  {
   "cell_type": "markdown",
   "metadata": {},
   "source": [
    "树、二叉树、满二叉树、完全二叉树\n",
    "+ 二叉树的顺序存储方式\n",
    "父节点 -> 子节点\n",
    "i     -> 2i+1  left\n",
    "i     -> 2i+2  right\n",
    "\n",
    "+ 堆：特殊的完全二叉树\n",
    "+ 大根堆：任一节点均比其子节点大。\n",
    "+ 小根堆：任一节点均比其子节点小。\n",
    "\n",
    "堆的向下调整：当根节点的左右子树都是堆时，可通过一次向下的调整来将其变成堆。"
   ]
  },
  {
   "cell_type": "markdown",
   "metadata": {},
   "source": [
    "=堆排序=\n",
    "1. 建立堆\n",
    "2. 得到堆顶元素\n",
    "3. 去掉堆顶，将堆最后一个元素放到堆顶，一次调整使堆有序。\n",
    "4. 堆顶为第二大元素\n",
    "5. 重复步骤3，知道堆变空"
   ]
  },
  {
   "cell_type": "code",
   "execution_count": 6,
   "metadata": {},
   "outputs": [],
   "source": [
    "def sift(nums, low, high):\n",
    "    \"\"\"\n",
    "    nums:\n",
    "    low:根节点位置(起始点)\n",
    "    high:最后一个元素位置(起边界作用，防止越界)\n",
    "    \"\"\"\n",
    "    i = low\n",
    "    j = 2*i+1 #从左子节点开始\n",
    "    tmp = nums[low]#把堆顶值保存\n",
    "    while j<= high:\n",
    "        if j + 1 <= high and nums[j+1] > nums[j]:\n",
    "            j+=1#指向较大的右子节点\n",
    "        if nums[j] > tmp:\n",
    "            nums[i] = nums[j]\n",
    "            \n",
    "            #向下探一层\n",
    "            i = j\n",
    "            j = 2*i+1\n",
    "        else:\n",
    "            #tmp更大\n",
    "            break\n",
    "    else:\n",
    "        nums[i] = tmp\n",
    "\n",
    "\n",
    "def heap_sort(nums):\n",
    "    n = len(nums)\n",
    "    \n",
    "    #建立堆\n",
    "    for i in range((n-2)//2,-1,-1):\n",
    "        sift(nums, i, n-1)\n",
    "        \n",
    "    for i in range(n-1,-1,-1):\n",
    "        nums[0],nums[i]=nums[i],nums[0]\n",
    "        sift(nums, 0, i-1)"
   ]
  },
  {
   "cell_type": "markdown",
   "metadata": {},
   "source": [
    "堆排序 -- python内置模块"
   ]
  },
  {
   "cell_type": "code",
   "execution_count": 11,
   "metadata": {},
   "outputs": [
    {
     "name": "stdout",
     "output_type": "stream",
     "text": [
      "0,1,2,3,4,5,6,7,8,9,"
     ]
    }
   ],
   "source": [
    "import heapq\n",
    "import random\n",
    "nums = list(range(10))\n",
    "random.shuffle(nums)\n",
    "heapq.heapify(nums) #建立堆\n",
    "for i in range(len(nums)):\n",
    "    print(heapq.heappop(),end=',')#弹出最小元素"
   ]
  },
  {
   "cell_type": "markdown",
   "metadata": {},
   "source": [
    "top - k 问题"
   ]
  },
  {
   "cell_type": "code",
   "execution_count": 19,
   "metadata": {
    "collapsed": true,
    "jupyter": {
     "outputs_hidden": true
    }
   },
   "outputs": [
    {
     "data": {
      "text/plain": [
       "[5]"
      ]
     },
     "execution_count": 19,
     "metadata": {},
     "output_type": "execute_result"
    }
   ],
   "source": [
    "def sift(nums, low, high):\n",
    "    \"\"\"\n",
    "    nums:\n",
    "    low:根节点位置(起始点)\n",
    "    high:最后一个元素位置(起边界作用，防止越界)\n",
    "    小根堆 更改两处符号\n",
    "    \"\"\"\n",
    "    i = low\n",
    "    j = 2*i+1 #从左子节点开始\n",
    "    tmp = nums[low]#把堆顶值保存\n",
    "    while j<= high:\n",
    "        if j + 1 <= high and nums[j+1] < nums[j]:\n",
    "            j+=1#指向较大的右子节点\n",
    "        if nums[j] < tmp:\n",
    "            nums[i] = nums[j]\n",
    "            \n",
    "            #向下探一层\n",
    "            i = j\n",
    "            j = 2*i+1\n",
    "        else:\n",
    "            #tmp更大\n",
    "            break\n",
    "    else:\n",
    "        nums[i] = tmp\n",
    "\n",
    "def topk(nums,k):\n",
    "    heap = nums[0:k]\n",
    "    for i in range((k-2)//2,-1,-1):\n",
    "        sift(heap, i, k-1)\n",
    "    for i in range(k, len(nums)):\n",
    "        if nums[i]>heap[0]:\n",
    "            heap[0] = nums[i]\n",
    "            sift(heap, 0, k-1)\n",
    "    for i in range(k-1,-1,-1):\n",
    "        heap[0],heap[i]=heap[i],heap[0]\n",
    "        sift(nums,0,i-1)\n",
    "    return heap\n",
    "\n",
    "import random\n",
    "nums = [1,2,3,4,5]\n",
    "topk(nums,1)"
   ]
  },
  {
   "cell_type": "markdown",
   "metadata": {},
   "source": [
    "归并排序"
   ]
  },
  {
   "cell_type": "code",
   "execution_count": 28,
   "metadata": {},
   "outputs": [],
   "source": [
    "def merge(nums, low, mid, high):\n",
    "    i = low\n",
    "    j = mid + 1\n",
    "    res = []\n",
    "    while i<= mid and j <= high:\n",
    "        if nums[i] < nums[j]:\n",
    "            res.append(nums[i])\n",
    "            i+=1\n",
    "        else:\n",
    "            res.append(nums[j])\n",
    "            j+=1\n",
    "    while i <= mid:\n",
    "        res.append(nums[i])\n",
    "        i+=1\n",
    "    while j <= high:\n",
    "        res.append(nums[j])\n",
    "        j+=1\n",
    "    nums[low:high+1] = res\n",
    "    \n",
    "    \n",
    "def merge_sort(nums, low, high):\n",
    "    mid = (low+high)//2\n",
    "    #至少有两个元素\n",
    "    if low < high:\n",
    "        merge_sort(nums,low,mid)\n",
    "        merge_sort(nums,mid+1,high)\n",
    "        merge(nums,low,mid,high)\n",
    "    return nums"
   ]
  },
  {
   "cell_type": "markdown",
   "metadata": {},
   "source": [
    "+ 希尔排序shellsort：分组插入排序\n",
    "+ 插入排序基础上把1变成gap"
   ]
  },
  {
   "cell_type": "code",
   "execution_count": 2,
   "metadata": {},
   "outputs": [],
   "source": [
    "def insert_sort_gap(nums,gap):\n",
    "    for i in range(gap,len(nums)):\n",
    "        j=i-gap\n",
    "        tmp = nums[i]\n",
    "        while j>=0 and nums[j]>tmp:\n",
    "            nums[j+gap] = nums[j]\n",
    "            j-=gap\n",
    "        nums[j+gap]=tmp\n",
    "    return nums\n",
    "def shell_sort(nums):\n",
    "    d = len(nums)//2\n",
    "    while d>=1:\n",
    "        insert_sort_gap(nums,d)\n",
    "        d//=2"
   ]
  },
  {
   "cell_type": "markdown",
   "metadata": {},
   "source": [
    "计数排序,适用于有范围限度的数值排序"
   ]
  },
  {
   "cell_type": "code",
   "execution_count": 14,
   "metadata": {},
   "outputs": [],
   "source": [
    "def count_sort(nums,max_count=100):\n",
    "    count = [0 for _ in range(max_count+1)]\n",
    "    for num in nums:\n",
    "        count[num]+=1\n",
    "    nums.clear()\n",
    "    for ind,val in enumerate(count):\n",
    "        for i in range(val):\n",
    "            nums.append(ind)"
   ]
  },
  {
   "cell_type": "markdown",
   "metadata": {},
   "source": [
    "桶排序"
   ]
  },
  {
   "cell_type": "code",
   "execution_count": 22,
   "metadata": {},
   "outputs": [],
   "source": [
    "def bucket_sort(nums, n=100,max_num=10000):\n",
    "    buckets=[[] for _ in range(n)]\n",
    "    for num in nums:\n",
    "        i = min(num//(max_num//n), n-1) #i为桶号\n",
    "        buckets[i].append(num)\n",
    "        \n",
    "        #保证顺序\n",
    "        for j in range(len(buckets[i])-1,0,-1):\n",
    "            if buckets[i][j]<buckets[i][j-1]:\n",
    "                buckets[i][j],buckets[i][j-1]=buckets[i][j-1],buckets[i][j]\n",
    "            else:\n",
    "                break\n",
    "        sorted_nums = []\n",
    "        for buc in buckets:\n",
    "            sorted_nums.extend(buc)\n",
    "        return sorted_nums"
   ]
  },
  {
   "cell_type": "markdown",
   "metadata": {},
   "source": [
    "基数排序"
   ]
  },
  {
   "cell_type": "code",
   "execution_count": 27,
   "metadata": {},
   "outputs": [],
   "source": [
    "def radix_sort(nums):\n",
    "    max_nums=max(nums)\n",
    "    it=0\n",
    "    while 10**it<=max_nums:\n",
    "        buckets = [[] for _ in range(10)]\n",
    "        for num in nums:\n",
    "            digit = (num//10 ** it)%10\n",
    "            buckets[digit].append(num)\n",
    "        nums.clear()\n",
    "        for buc in buckets:\n",
    "            nums.extend(buc)\n",
    "        it+=1"
   ]
  }
 ],
 "metadata": {
  "kernelspec": {
   "display_name": "Python 3",
   "language": "python",
   "name": "python3"
  },
  "language_info": {
   "codemirror_mode": {
    "name": "ipython",
    "version": 3
   },
   "file_extension": ".py",
   "mimetype": "text/x-python",
   "name": "python",
   "nbconvert_exporter": "python",
   "pygments_lexer": "ipython3",
   "version": "3.8.3"
  }
 },
 "nbformat": 4,
 "nbformat_minor": 4
}
